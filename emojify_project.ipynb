{
  "nbformat": 4,
  "nbformat_minor": 0,
  "metadata": {
    "colab": {
      "name": "emojify_project.ipynb",
      "provenance": [],
      "collapsed_sections": []
    },
    "kernelspec": {
      "name": "python3",
      "display_name": "Python 3"
    },
    "accelerator": "GPU"
  },
  "cells": [
    {
      "cell_type": "code",
      "metadata": {
        "id": "Meh9wc4zdoQT",
        "outputId": "a5e2b428-b9f9-46d7-af6f-08e6fb2a349d",
        "colab": {
          "base_uri": "https://localhost:8080/",
          "height": 34
        }
      },
      "source": [
        "from zipfile import ZipFile\n",
        "file_name = \"emojify.zip\"\n",
        "\n",
        "with ZipFile(file_name, 'r') as zip:\n",
        "  zip.extractall()\n",
        "  print(\"Done\")"
      ],
      "execution_count": null,
      "outputs": [
        {
          "output_type": "stream",
          "text": [
            "Done\n"
          ],
          "name": "stdout"
        }
      ]
    },
    {
      "cell_type": "code",
      "metadata": {
        "id": "tT9qRwU8U5hc"
      },
      "source": [
        "import numpy as np\n",
        "import cv2\n",
        "from keras.models import Sequential\n",
        "from keras.layers import Dense, Dropout, Flatten\n",
        "from keras.layers import Conv2D\n",
        "from keras.optimizers import Adam\n",
        "from keras.layers import MaxPooling2D\n",
        "from keras.preprocessing.image import ImageDataGenerator"
      ],
      "execution_count": 3,
      "outputs": []
    },
    {
      "cell_type": "code",
      "metadata": {
        "id": "S92aXPw8ouRb",
        "outputId": "0a875e01-bdfc-4520-ced5-48b66e8e8cec",
        "colab": {
          "base_uri": "https://localhost:8080/",
          "height": 51
        }
      },
      "source": [
        "train_dir = 'train'\n",
        "val_dir = 'test'\n",
        "train_datagen = ImageDataGenerator(rescale=1./255)\n",
        "val_datagen = ImageDataGenerator(rescale=1./255)\n",
        "\n",
        "train_generator = train_datagen.flow_from_directory(\n",
        "        train_dir,\n",
        "        target_size=(48,48),\n",
        "        batch_size=64,\n",
        "        color_mode=\"grayscale\",\n",
        "        class_mode='categorical')\n",
        "\n",
        "validation_generator = val_datagen.flow_from_directory(\n",
        "        val_dir,\n",
        "        target_size=(48,48),\n",
        "        batch_size=64,\n",
        "        color_mode=\"grayscale\",\n",
        "        class_mode='categorical')"
      ],
      "execution_count": null,
      "outputs": [
        {
          "output_type": "stream",
          "text": [
            "Found 28709 images belonging to 7 classes.\n",
            "Found 7178 images belonging to 7 classes.\n"
          ],
          "name": "stdout"
        }
      ]
    },
    {
      "cell_type": "code",
      "metadata": {
        "id": "t74GyVFJU5zy"
      },
      "source": [
        "emotion_model = Sequential()\n",
        "emotion_model.add(Conv2D(32, kernel_size=(3, 3), activation='relu', input_shape=(48,48,1)))\n",
        "emotion_model.add(Conv2D(64, kernel_size=(3, 3), activation='relu'))\n",
        "emotion_model.add(MaxPooling2D(pool_size=(2, 2)))\n",
        "emotion_model.add(Dropout(0.25))\n",
        "emotion_model.add(Conv2D(128, kernel_size=(3, 3), activation='relu'))\n",
        "emotion_model.add(MaxPooling2D(pool_size=(2, 2)))\n",
        "emotion_model.add(Conv2D(128, kernel_size=(3, 3), activation='relu'))\n",
        "emotion_model.add(MaxPooling2D(pool_size=(2, 2)))\n",
        "emotion_model.add(Dropout(0.25))\n",
        "emotion_model.add(Flatten())\n",
        "emotion_model.add(Dense(1024, activation='relu'))\n",
        "emotion_model.add(Dropout(0.5))\n",
        "emotion_model.add(Dense(7, activation='softmax'))"
      ],
      "execution_count": 4,
      "outputs": []
    },
    {
      "cell_type": "code",
      "metadata": {
        "id": "ndB4aIimU5o3",
        "outputId": "a9982c81-b3c1-4bdb-920f-6ffe12410260",
        "colab": {
          "base_uri": "https://localhost:8080/",
          "height": 1000
        }
      },
      "source": [
        "emotion_model.compile(loss='categorical_crossentropy',optimizer=Adam(lr=0.0001, decay=1e-6),metrics=['accuracy'])\n",
        "emotion_model_info = emotion_model.fit_generator(\n",
        "        train_generator,\n",
        "        steps_per_epoch=28709 // 64,\n",
        "        epochs=50,\n",
        "        validation_data=validation_generator,\n",
        "        validation_steps=7178 // 64)"
      ],
      "execution_count": null,
      "outputs": [
        {
          "output_type": "stream",
          "text": [
            "WARNING:tensorflow:From <ipython-input-5-262a6af64eb7>:7: Model.fit_generator (from tensorflow.python.keras.engine.training) is deprecated and will be removed in a future version.\n",
            "Instructions for updating:\n",
            "Please use Model.fit, which supports generators.\n",
            "Epoch 1/50\n",
            "448/448 [==============================] - 17s 38ms/step - loss: 1.8002 - accuracy: 0.2614 - val_loss: 1.7185 - val_accuracy: 0.3481\n",
            "Epoch 2/50\n",
            "448/448 [==============================] - 16s 36ms/step - loss: 1.6369 - accuracy: 0.3589 - val_loss: 1.5664 - val_accuracy: 0.4033\n",
            "Epoch 3/50\n",
            "448/448 [==============================] - 16s 36ms/step - loss: 1.5361 - accuracy: 0.4087 - val_loss: 1.4704 - val_accuracy: 0.4411\n",
            "Epoch 4/50\n",
            "448/448 [==============================] - 16s 36ms/step - loss: 1.4650 - accuracy: 0.4397 - val_loss: 1.4097 - val_accuracy: 0.4678\n",
            "Epoch 5/50\n",
            "448/448 [==============================] - 16s 36ms/step - loss: 1.3998 - accuracy: 0.4670 - val_loss: 1.3523 - val_accuracy: 0.4902\n",
            "Epoch 6/50\n",
            "448/448 [==============================] - 16s 36ms/step - loss: 1.3519 - accuracy: 0.4918 - val_loss: 1.3132 - val_accuracy: 0.5029\n",
            "Epoch 7/50\n",
            "448/448 [==============================] - 16s 36ms/step - loss: 1.3088 - accuracy: 0.5044 - val_loss: 1.3005 - val_accuracy: 0.5036\n",
            "Epoch 8/50\n",
            "448/448 [==============================] - 16s 36ms/step - loss: 1.2686 - accuracy: 0.5223 - val_loss: 1.2564 - val_accuracy: 0.5226\n",
            "Epoch 9/50\n",
            "448/448 [==============================] - 16s 36ms/step - loss: 1.2373 - accuracy: 0.5367 - val_loss: 1.2277 - val_accuracy: 0.5303\n",
            "Epoch 10/50\n",
            "448/448 [==============================] - 16s 36ms/step - loss: 1.2066 - accuracy: 0.5452 - val_loss: 1.2096 - val_accuracy: 0.5416\n",
            "Epoch 11/50\n",
            "448/448 [==============================] - 16s 36ms/step - loss: 1.1798 - accuracy: 0.5583 - val_loss: 1.1878 - val_accuracy: 0.5529\n",
            "Epoch 12/50\n",
            "448/448 [==============================] - 16s 36ms/step - loss: 1.1498 - accuracy: 0.5671 - val_loss: 1.1740 - val_accuracy: 0.5551\n",
            "Epoch 13/50\n",
            "448/448 [==============================] - 16s 36ms/step - loss: 1.1244 - accuracy: 0.5764 - val_loss: 1.1614 - val_accuracy: 0.5650\n",
            "Epoch 14/50\n",
            "448/448 [==============================] - 16s 36ms/step - loss: 1.0970 - accuracy: 0.5912 - val_loss: 1.1495 - val_accuracy: 0.5698\n",
            "Epoch 15/50\n",
            "448/448 [==============================] - 16s 37ms/step - loss: 1.0765 - accuracy: 0.5965 - val_loss: 1.1407 - val_accuracy: 0.5678\n",
            "Epoch 16/50\n",
            "448/448 [==============================] - 16s 37ms/step - loss: 1.0523 - accuracy: 0.6067 - val_loss: 1.1191 - val_accuracy: 0.5811\n",
            "Epoch 17/50\n",
            "448/448 [==============================] - 16s 36ms/step - loss: 1.0277 - accuracy: 0.6174 - val_loss: 1.1130 - val_accuracy: 0.5804\n",
            "Epoch 18/50\n",
            "448/448 [==============================] - 16s 36ms/step - loss: 1.0067 - accuracy: 0.6261 - val_loss: 1.1039 - val_accuracy: 0.5838\n",
            "Epoch 19/50\n",
            "448/448 [==============================] - 16s 36ms/step - loss: 0.9813 - accuracy: 0.6375 - val_loss: 1.0953 - val_accuracy: 0.5910\n",
            "Epoch 20/50\n",
            "448/448 [==============================] - 16s 36ms/step - loss: 0.9596 - accuracy: 0.6455 - val_loss: 1.0966 - val_accuracy: 0.5936\n",
            "Epoch 21/50\n",
            "448/448 [==============================] - 16s 36ms/step - loss: 0.9381 - accuracy: 0.6527 - val_loss: 1.0833 - val_accuracy: 0.5963\n",
            "Epoch 22/50\n",
            "448/448 [==============================] - 16s 36ms/step - loss: 0.9153 - accuracy: 0.6599 - val_loss: 1.0715 - val_accuracy: 0.6014\n",
            "Epoch 23/50\n",
            "448/448 [==============================] - 16s 36ms/step - loss: 0.8996 - accuracy: 0.6667 - val_loss: 1.0720 - val_accuracy: 0.6038\n",
            "Epoch 24/50\n",
            "448/448 [==============================] - 16s 36ms/step - loss: 0.8760 - accuracy: 0.6774 - val_loss: 1.0755 - val_accuracy: 0.6020\n",
            "Epoch 25/50\n",
            "448/448 [==============================] - 16s 36ms/step - loss: 0.8486 - accuracy: 0.6860 - val_loss: 1.0774 - val_accuracy: 0.6030\n",
            "Epoch 26/50\n",
            "448/448 [==============================] - 16s 37ms/step - loss: 0.8284 - accuracy: 0.6934 - val_loss: 1.0747 - val_accuracy: 0.6081\n",
            "Epoch 27/50\n",
            "448/448 [==============================] - 16s 36ms/step - loss: 0.8068 - accuracy: 0.7035 - val_loss: 1.0627 - val_accuracy: 0.6134\n",
            "Epoch 28/50\n",
            "448/448 [==============================] - 16s 36ms/step - loss: 0.7772 - accuracy: 0.7146 - val_loss: 1.0569 - val_accuracy: 0.6157\n",
            "Epoch 29/50\n",
            "448/448 [==============================] - 16s 36ms/step - loss: 0.7616 - accuracy: 0.7217 - val_loss: 1.0674 - val_accuracy: 0.6091\n",
            "Epoch 30/50\n",
            "448/448 [==============================] - 16s 36ms/step - loss: 0.7379 - accuracy: 0.7313 - val_loss: 1.0748 - val_accuracy: 0.6129\n",
            "Epoch 31/50\n",
            "448/448 [==============================] - 16s 36ms/step - loss: 0.7150 - accuracy: 0.7410 - val_loss: 1.0778 - val_accuracy: 0.6104\n",
            "Epoch 32/50\n",
            "448/448 [==============================] - 16s 36ms/step - loss: 0.6859 - accuracy: 0.7467 - val_loss: 1.0784 - val_accuracy: 0.6189\n",
            "Epoch 33/50\n",
            "448/448 [==============================] - 16s 36ms/step - loss: 0.6718 - accuracy: 0.7542 - val_loss: 1.0869 - val_accuracy: 0.6124\n",
            "Epoch 34/50\n",
            "448/448 [==============================] - 17s 37ms/step - loss: 0.6455 - accuracy: 0.7643 - val_loss: 1.0880 - val_accuracy: 0.6172\n",
            "Epoch 35/50\n",
            "448/448 [==============================] - 16s 36ms/step - loss: 0.6314 - accuracy: 0.7703 - val_loss: 1.0823 - val_accuracy: 0.6169\n",
            "Epoch 36/50\n",
            "448/448 [==============================] - 16s 36ms/step - loss: 0.6050 - accuracy: 0.7820 - val_loss: 1.1094 - val_accuracy: 0.6177\n",
            "Epoch 37/50\n",
            "448/448 [==============================] - 16s 36ms/step - loss: 0.5954 - accuracy: 0.7850 - val_loss: 1.0967 - val_accuracy: 0.6207\n",
            "Epoch 38/50\n",
            "448/448 [==============================] - 16s 36ms/step - loss: 0.5729 - accuracy: 0.7943 - val_loss: 1.0907 - val_accuracy: 0.6214\n",
            "Epoch 39/50\n",
            "448/448 [==============================] - 16s 36ms/step - loss: 0.5557 - accuracy: 0.7970 - val_loss: 1.1221 - val_accuracy: 0.6205\n",
            "Epoch 40/50\n",
            "448/448 [==============================] - 16s 36ms/step - loss: 0.5358 - accuracy: 0.8019 - val_loss: 1.1000 - val_accuracy: 0.6254\n",
            "Epoch 41/50\n",
            "448/448 [==============================] - 16s 36ms/step - loss: 0.5273 - accuracy: 0.8098 - val_loss: 1.1008 - val_accuracy: 0.6258\n",
            "Epoch 42/50\n",
            "448/448 [==============================] - 16s 36ms/step - loss: 0.5057 - accuracy: 0.8162 - val_loss: 1.1132 - val_accuracy: 0.6246\n",
            "Epoch 43/50\n",
            "448/448 [==============================] - 16s 36ms/step - loss: 0.4867 - accuracy: 0.8229 - val_loss: 1.1217 - val_accuracy: 0.6203\n",
            "Epoch 44/50\n",
            "448/448 [==============================] - 16s 36ms/step - loss: 0.4726 - accuracy: 0.8308 - val_loss: 1.1462 - val_accuracy: 0.6205\n",
            "Epoch 45/50\n",
            "448/448 [==============================] - 16s 36ms/step - loss: 0.4563 - accuracy: 0.8345 - val_loss: 1.1459 - val_accuracy: 0.6243\n",
            "Epoch 46/50\n",
            "448/448 [==============================] - 16s 36ms/step - loss: 0.4436 - accuracy: 0.8393 - val_loss: 1.1534 - val_accuracy: 0.6229\n",
            "Epoch 47/50\n",
            "448/448 [==============================] - 16s 36ms/step - loss: 0.4344 - accuracy: 0.8449 - val_loss: 1.1585 - val_accuracy: 0.6251\n",
            "Epoch 48/50\n",
            "448/448 [==============================] - 16s 36ms/step - loss: 0.4135 - accuracy: 0.8504 - val_loss: 1.1895 - val_accuracy: 0.6200\n",
            "Epoch 49/50\n",
            "448/448 [==============================] - 16s 37ms/step - loss: 0.4115 - accuracy: 0.8518 - val_loss: 1.1744 - val_accuracy: 0.6260\n",
            "Epoch 50/50\n",
            "448/448 [==============================] - 16s 36ms/step - loss: 0.3903 - accuracy: 0.8587 - val_loss: 1.1966 - val_accuracy: 0.6277\n"
          ],
          "name": "stdout"
        }
      ]
    },
    {
      "cell_type": "code",
      "metadata": {
        "id": "1zPtvnjgzo6u"
      },
      "source": [
        "emotion_model.save_weights('model.h5')"
      ],
      "execution_count": 5,
      "outputs": []
    },
    {
      "cell_type": "code",
      "metadata": {
        "id": "5H_Wzj2xzpCJ"
      },
      "source": [
        "cv2.ocl.setUseOpenCL(False)\n",
        "\n",
        "\n",
        "emotion_dict = {0: \"Angry\", 1: \"Disgusted\", 2: \"Fearful\", 3: \"Happy\", 4: \"Neutral\", 5: \"Sad\", 6: \"Surprised\"}\n",
        "\n",
        "\n",
        "cap = cv2.VideoCapture(0)\n",
        "\n",
        "while True:\n",
        "    ret, frame = cap.read()\n",
        "    if not ret:\n",
        "        break\n",
        "    bounding_box = cv2.CascadeClassifier('/home/shivam/.local/lib/python3.6/site-packages/cv2/data/haarcascade_frontalface_default.xml')\n",
        "    gray_frame = cv2.cvtColor(frame, cv2.COLOR_BGR2gray_frame)\n",
        "    num_faces = bounding_box.detectMultiScale(gray_frame,scaleFactor=1.3, minNeighbors=5)\n",
        "    \n",
        "    for (x, y, w, h) in num_faces:\n",
        "        cv2.rectangle(frame, (x, y-50), (x+w, y+h+10), (255, 0, 0), 2)\n",
        "        roi_gray_frame = gray_frame[y:y + h, x:x + w]\n",
        "        cropped_img = np.expand_dims(np.expand_dims(cv2.resize(roi_gray_frame, (48, 48)), -1), 0)\n",
        "        emotion_prediction = emotion_model.predict(cropped_img)\n",
        "        maxindex = int(np.argmax(emotion_prediction))\n",
        "        cv2.putText(frame, emotion_dict[maxindex], (x+20, y-60), cv2.FONT_HERSHEY_SIMPLEX, 1, (255, 255, 255), 2, cv2.LINE_AA)\n",
        "\n",
        "\n",
        "    cv2.imshow('Video', cv2.resize(frame,(1200,860),interpolation = cv2.INTER_CUBIC))\n",
        "    if cv2.waitKey(1) & 0xFF == ord('q'):\n",
        "      cap.release()\n",
        "      cv2.destroyAllWindows()\n",
        "      break"
      ],
      "execution_count": 8,
      "outputs": []
    },
    {
      "cell_type": "code",
      "metadata": {
        "id": "CTXu9jgF8Qbb",
        "outputId": "b5011953-1c55-41f9-9886-39b8f0eeb7dd",
        "colab": {
          "base_uri": "https://localhost:8080/",
          "height": 224
        }
      },
      "source": [
        "!wget https://github.com/opencv/opencv/blob/master/data/haarcascades/haarcascade_frontalface_default.xml"
      ],
      "execution_count": null,
      "outputs": [
        {
          "output_type": "stream",
          "text": [
            "--2020-09-29 06:13:39--  https://github.com/opencv/opencv/blob/master/data/haarcascades/haarcascade_frontalface_default.xml\n",
            "Resolving github.com (github.com)... 140.82.121.4\n",
            "Connecting to github.com (github.com)|140.82.121.4|:443... connected.\n",
            "HTTP request sent, awaiting response... 200 OK\n",
            "Length: unspecified [text/html]\n",
            "Saving to: ‘haarcascade_frontalface_default.xml’\n",
            "\n",
            "haarcascade_frontal     [ <=>                ]   8.24M  --.-KB/s    in 0.09s   \n",
            "\n",
            "2020-09-29 06:13:40 (91.8 MB/s) - ‘haarcascade_frontalface_default.xml’ saved [8642728]\n",
            "\n"
          ],
          "name": "stdout"
        }
      ]
    },
    {
      "cell_type": "code",
      "metadata": {
        "id": "IQWjBxeEDFB6",
        "outputId": "339658f1-049e-4638-d83d-72f5c25eaaf5",
        "colab": {
          "base_uri": "https://localhost:8080/",
          "height": 374
        }
      },
      "source": [
        "import tkinter as tk\n",
        "from tkinter import *\n",
        "import cv2\n",
        "from PIL import Image, ImageTk\n",
        "import os\n",
        "import numpy as np\n",
        "import cv2\n",
        "from keras.models import Sequential\n",
        "from keras.layers import Dense, Dropout, Flatten\n",
        "from keras.layers import Conv2D\n",
        "from keras.optimizers import Adam\n",
        "from keras.layers import MaxPooling2D\n",
        "from keras.preprocessing.image import ImageDataGenerator\n",
        "\n",
        "emotion_model = Sequential()\n",
        "\n",
        "emotion_model.add(Conv2D(32, kernel_size=(3, 3), activation='relu', input_shape=(48,48,1)))\n",
        "emotion_model.add(Conv2D(64, kernel_size=(3, 3), activation='relu'))\n",
        "emotion_model.add(MaxPooling2D(pool_size=(2, 2)))\n",
        "emotion_model.add(Dropout(0.25))\n",
        "\n",
        "emotion_model.add(Conv2D(128, kernel_size=(3, 3), activation='relu'))\n",
        "emotion_model.add(MaxPooling2D(pool_size=(2, 2)))\n",
        "emotion_model.add(Conv2D(128, kernel_size=(3, 3), activation='relu'))\n",
        "emotion_model.add(MaxPooling2D(pool_size=(2, 2)))\n",
        "emotion_model.add(Dropout(0.25))\n",
        "\n",
        "emotion_model.add(Flatten())\n",
        "emotion_model.add(Dense(1024, activation='relu'))\n",
        "emotion_model.add(Dropout(0.5))\n",
        "emotion_model.add(Dense(7, activation='softmax'))\n",
        "emotion_model.load_weights('model.h5')\n",
        "\n",
        "cv2.ocl.setUseOpenCL(False)\n",
        "\n",
        "emotion_dict = {0: \"   Angry   \", 1: \"Disgusted\", 2: \"  Fearful  \", 3: \"   Happy   \", 4: \"  Neutral  \", 5: \"    Sad    \", 6: \"Surprised\"}\n",
        "\n",
        "\n",
        "emoji_dist={0:\"./emojis/angry.png\",2:\"./emojis/disgusted.png\",2:\"./emojis/fearful.png\",3:\"./emojis/happy.png\",4:\"./emojis/neutral.png\",5:\"./emojis/sad.png\",6:\"./emojis/surpriced.png\"}\n",
        "\n",
        "global last_frame1                                    \n",
        "last_frame1 = np.zeros((480, 640, 3), dtype=np.uint8)\n",
        "global cap1\n",
        "show_text=[0]\n",
        "def show_vid():      \n",
        "    cap1 = cv2.VideoCapture(0)                                 \n",
        "    if not cap1.isOpened():                             \n",
        "        print(\"cant open the camera1\")\n",
        "    flag1, frame1 = cap1.read()\n",
        "    frame1 = cv2.resize(frame1,(600,500))\n",
        "\n",
        "    bounding_box = cv2.CascadeClassifier('/home/shivam/.local/lib/python3.6/site-packages/cv2/data/haarcascade_frontalface_default.xml')\n",
        "    gray_frame = cv2.cvtColor(frame1, cv2.COLOR_BGR2GRAY)\n",
        "    num_faces = bounding_box.detectMultiScale(gray_frame,scaleFactor=1.3, minNeighbors=5)\n",
        "\n",
        "    for (x, y, w, h) in num_faces:\n",
        "        cv2.rectangle(frame1, (x, y-50), (x+w, y+h+10), (255, 0, 0), 2)\n",
        "        roi_gray_frame = gray_frame[y:y + h, x:x + w]\n",
        "        cropped_img = np.expand_dims(np.expand_dims(cv2.resize(roi_gray_frame, (48, 48)), -1), 0)\n",
        "        prediction = emotion_model.predict(cropped_img)\n",
        "        \n",
        "        maxindex = int(np.argmax(prediction))\n",
        "        cv2.putText(frame1, emotion_dict[maxindex], (x+20, y-60), cv2.FONT_HERSHEY_SIMPLEX, 1, (255, 255, 255), 2, cv2.LINE_AA)\n",
        "        show_text[0]=maxindex\n",
        "    if flag1 is None:\n",
        "        print (\"Major error!\")\n",
        "    elif flag1:\n",
        "        global last_frame1\n",
        "        last_frame1 = frame1.copy()\n",
        "        pic = cv2.cvtColor(last_frame1, cv2.COLOR_BGR2RGB)     \n",
        "        img = Image.fromarray(pic)\n",
        "        imgtk = ImageTk.PhotoImage(image=img)\n",
        "        lmain.imgtk = imgtk\n",
        "        lmain.configure(image=imgtk)\n",
        "        lmain.after(10, show_vid)\n",
        "    if cv2.waitKey(1) & 0xFF == ord('q'):\n",
        "        exit()\n",
        "\n",
        "\n",
        "def show_vid2():\n",
        "    frame2=cv2.imread(emoji_dist[show_text[0]])\n",
        "    pic2=cv2.cvtColor(frame2,cv2.COLOR_BGR2RGB)\n",
        "    img2=Image.fromarray(frame2)\n",
        "    imgtk2=ImageTk.PhotoImage(image=img2)\n",
        "    lmain2.imgtk2=imgtk2\n",
        "    lmain3.configure(text=emotion_dict[show_text[0]],font=('arial',45,'bold'))\n",
        "    \n",
        "    lmain2.configure(image=imgtk2)\n",
        "    lmain2.after(10, show_vid2)\n",
        "\n",
        "if __name__ == '__main__':\n",
        "    root=tk.Tk\n",
        "    img = ImageTk.PhotoImage(Image.open('eshu.png'))\n",
        "    heading = Label(root,image=img,bg='black')\n",
        "    \n",
        "    heading.pack() \n",
        "    heading2=Label(root,text=\"Photo to Emoji\",pady=20, font=('arial',45,'bold'),bg='black',fg='#CDCDCD')                                 \n",
        "    \n",
        "    heading2.pack()\n",
        "    lmain = tk.Label(master=root,padx=50,bd=10)\n",
        "    lmain2 = tk.Label(master=root,bd=10)\n",
        "\n",
        "    lmain3=tk.Label(master=root,bd=10,fg=\"#CDCDCD\",bg='black')\n",
        "    lmain.pack(side=LEFT)\n",
        "    lmain.place(x=50,y=250)\n",
        "    lmain3.pack()\n",
        "    lmain3.place(x=960,y=250)\n",
        "    lmain2.pack(side=RIGHT)\n",
        "    lmain2.place(x=900,y=350)\n",
        "    \n",
        "\n",
        "\n",
        "    root.title(\"Photo To Emoji\")            \n",
        "    root.geometry(\"1400x900+100+10\") \n",
        "    root['bg']='black'\n",
        "    exitbutton = Button(root, text='Quit',fg=\"red\",command=root.destroy,font=('arial',25,'bold')).pack(side = BOTTOM)\n",
        "    show_vid()\n",
        "    show_vid2()\n",
        "    root.mainloop()"
      ],
      "execution_count": 12,
      "outputs": [
        {
          "output_type": "error",
          "ename": "RuntimeError",
          "evalue": "ignored",
          "traceback": [
            "\u001b[0;31m---------------------------------------------------------------------------\u001b[0m",
            "\u001b[0;31mRuntimeError\u001b[0m                              Traceback (most recent call last)",
            "\u001b[0;32m<ipython-input-12-98ad112192a5>\u001b[0m in \u001b[0;36m<module>\u001b[0;34m()\u001b[0m\n\u001b[1;32m     91\u001b[0m \u001b[0;32mif\u001b[0m \u001b[0m__name__\u001b[0m \u001b[0;34m==\u001b[0m \u001b[0;34m'__main__'\u001b[0m\u001b[0;34m:\u001b[0m\u001b[0;34m\u001b[0m\u001b[0;34m\u001b[0m\u001b[0m\n\u001b[1;32m     92\u001b[0m     \u001b[0mroot\u001b[0m\u001b[0;34m=\u001b[0m\u001b[0mtk\u001b[0m\u001b[0;34m.\u001b[0m\u001b[0mTk\u001b[0m\u001b[0;34m\u001b[0m\u001b[0;34m\u001b[0m\u001b[0m\n\u001b[0;32m---> 93\u001b[0;31m     \u001b[0mimg\u001b[0m \u001b[0;34m=\u001b[0m \u001b[0mImageTk\u001b[0m\u001b[0;34m.\u001b[0m\u001b[0mPhotoImage\u001b[0m\u001b[0;34m(\u001b[0m\u001b[0mImage\u001b[0m\u001b[0;34m.\u001b[0m\u001b[0mopen\u001b[0m\u001b[0;34m(\u001b[0m\u001b[0;34m'eshu.png'\u001b[0m\u001b[0;34m)\u001b[0m\u001b[0;34m)\u001b[0m\u001b[0;34m\u001b[0m\u001b[0;34m\u001b[0m\u001b[0m\n\u001b[0m\u001b[1;32m     94\u001b[0m     \u001b[0mheading\u001b[0m \u001b[0;34m=\u001b[0m \u001b[0mLabel\u001b[0m\u001b[0;34m(\u001b[0m\u001b[0mroot\u001b[0m\u001b[0;34m,\u001b[0m\u001b[0mimage\u001b[0m\u001b[0;34m=\u001b[0m\u001b[0mimg\u001b[0m\u001b[0;34m,\u001b[0m\u001b[0mbg\u001b[0m\u001b[0;34m=\u001b[0m\u001b[0;34m'black'\u001b[0m\u001b[0;34m)\u001b[0m\u001b[0;34m\u001b[0m\u001b[0;34m\u001b[0m\u001b[0m\n\u001b[1;32m     95\u001b[0m \u001b[0;34m\u001b[0m\u001b[0m\n",
            "\u001b[0;32m/usr/local/lib/python3.6/dist-packages/PIL/ImageTk.py\u001b[0m in \u001b[0;36m__init__\u001b[0;34m(self, image, size, **kw)\u001b[0m\n\u001b[1;32m    110\u001b[0m         \u001b[0mself\u001b[0m\u001b[0;34m.\u001b[0m\u001b[0m__mode\u001b[0m \u001b[0;34m=\u001b[0m \u001b[0mmode\u001b[0m\u001b[0;34m\u001b[0m\u001b[0;34m\u001b[0m\u001b[0m\n\u001b[1;32m    111\u001b[0m         \u001b[0mself\u001b[0m\u001b[0;34m.\u001b[0m\u001b[0m__size\u001b[0m \u001b[0;34m=\u001b[0m \u001b[0msize\u001b[0m\u001b[0;34m\u001b[0m\u001b[0;34m\u001b[0m\u001b[0m\n\u001b[0;32m--> 112\u001b[0;31m         \u001b[0mself\u001b[0m\u001b[0;34m.\u001b[0m\u001b[0m__photo\u001b[0m \u001b[0;34m=\u001b[0m \u001b[0mtkinter\u001b[0m\u001b[0;34m.\u001b[0m\u001b[0mPhotoImage\u001b[0m\u001b[0;34m(\u001b[0m\u001b[0;34m**\u001b[0m\u001b[0mkw\u001b[0m\u001b[0;34m)\u001b[0m\u001b[0;34m\u001b[0m\u001b[0;34m\u001b[0m\u001b[0m\n\u001b[0m\u001b[1;32m    113\u001b[0m         \u001b[0mself\u001b[0m\u001b[0;34m.\u001b[0m\u001b[0mtk\u001b[0m \u001b[0;34m=\u001b[0m \u001b[0mself\u001b[0m\u001b[0;34m.\u001b[0m\u001b[0m__photo\u001b[0m\u001b[0;34m.\u001b[0m\u001b[0mtk\u001b[0m\u001b[0;34m\u001b[0m\u001b[0;34m\u001b[0m\u001b[0m\n\u001b[1;32m    114\u001b[0m         \u001b[0;32mif\u001b[0m \u001b[0mimage\u001b[0m\u001b[0;34m:\u001b[0m\u001b[0;34m\u001b[0m\u001b[0;34m\u001b[0m\u001b[0m\n",
            "\u001b[0;32m/usr/lib/python3.6/tkinter/__init__.py\u001b[0m in \u001b[0;36m__init__\u001b[0;34m(self, name, cnf, master, **kw)\u001b[0m\n\u001b[1;32m   3543\u001b[0m         \u001b[0mValid\u001b[0m \u001b[0mresource\u001b[0m \u001b[0mnames\u001b[0m\u001b[0;34m:\u001b[0m \u001b[0mdata\u001b[0m\u001b[0;34m,\u001b[0m \u001b[0mformat\u001b[0m\u001b[0;34m,\u001b[0m \u001b[0mfile\u001b[0m\u001b[0;34m,\u001b[0m \u001b[0mgamma\u001b[0m\u001b[0;34m,\u001b[0m \u001b[0mheight\u001b[0m\u001b[0;34m,\u001b[0m \u001b[0mpalette\u001b[0m\u001b[0;34m,\u001b[0m\u001b[0;34m\u001b[0m\u001b[0;34m\u001b[0m\u001b[0m\n\u001b[1;32m   3544\u001b[0m         width.\"\"\"\n\u001b[0;32m-> 3545\u001b[0;31m         \u001b[0mImage\u001b[0m\u001b[0;34m.\u001b[0m\u001b[0m__init__\u001b[0m\u001b[0;34m(\u001b[0m\u001b[0mself\u001b[0m\u001b[0;34m,\u001b[0m \u001b[0;34m'photo'\u001b[0m\u001b[0;34m,\u001b[0m \u001b[0mname\u001b[0m\u001b[0;34m,\u001b[0m \u001b[0mcnf\u001b[0m\u001b[0;34m,\u001b[0m \u001b[0mmaster\u001b[0m\u001b[0;34m,\u001b[0m \u001b[0;34m**\u001b[0m\u001b[0mkw\u001b[0m\u001b[0;34m)\u001b[0m\u001b[0;34m\u001b[0m\u001b[0;34m\u001b[0m\u001b[0m\n\u001b[0m\u001b[1;32m   3546\u001b[0m     \u001b[0;32mdef\u001b[0m \u001b[0mblank\u001b[0m\u001b[0;34m(\u001b[0m\u001b[0mself\u001b[0m\u001b[0;34m)\u001b[0m\u001b[0;34m:\u001b[0m\u001b[0;34m\u001b[0m\u001b[0;34m\u001b[0m\u001b[0m\n\u001b[1;32m   3547\u001b[0m         \u001b[0;34m\"\"\"Display a transparent image.\"\"\"\u001b[0m\u001b[0;34m\u001b[0m\u001b[0;34m\u001b[0m\u001b[0m\n",
            "\u001b[0;32m/usr/lib/python3.6/tkinter/__init__.py\u001b[0m in \u001b[0;36m__init__\u001b[0;34m(self, imgtype, name, cnf, master, **kw)\u001b[0m\n\u001b[1;32m   3487\u001b[0m             \u001b[0mmaster\u001b[0m \u001b[0;34m=\u001b[0m \u001b[0m_default_root\u001b[0m\u001b[0;34m\u001b[0m\u001b[0;34m\u001b[0m\u001b[0m\n\u001b[1;32m   3488\u001b[0m             \u001b[0;32mif\u001b[0m \u001b[0;32mnot\u001b[0m \u001b[0mmaster\u001b[0m\u001b[0;34m:\u001b[0m\u001b[0;34m\u001b[0m\u001b[0;34m\u001b[0m\u001b[0m\n\u001b[0;32m-> 3489\u001b[0;31m                 \u001b[0;32mraise\u001b[0m \u001b[0mRuntimeError\u001b[0m\u001b[0;34m(\u001b[0m\u001b[0;34m'Too early to create image'\u001b[0m\u001b[0;34m)\u001b[0m\u001b[0;34m\u001b[0m\u001b[0;34m\u001b[0m\u001b[0m\n\u001b[0m\u001b[1;32m   3490\u001b[0m         \u001b[0mself\u001b[0m\u001b[0;34m.\u001b[0m\u001b[0mtk\u001b[0m \u001b[0;34m=\u001b[0m \u001b[0mgetattr\u001b[0m\u001b[0;34m(\u001b[0m\u001b[0mmaster\u001b[0m\u001b[0;34m,\u001b[0m \u001b[0;34m'tk'\u001b[0m\u001b[0;34m,\u001b[0m \u001b[0mmaster\u001b[0m\u001b[0;34m)\u001b[0m\u001b[0;34m\u001b[0m\u001b[0;34m\u001b[0m\u001b[0m\n\u001b[1;32m   3491\u001b[0m         \u001b[0;32mif\u001b[0m \u001b[0;32mnot\u001b[0m \u001b[0mname\u001b[0m\u001b[0;34m:\u001b[0m\u001b[0;34m\u001b[0m\u001b[0;34m\u001b[0m\u001b[0m\n",
            "\u001b[0;31mRuntimeError\u001b[0m: Too early to create image"
          ]
        }
      ]
    }
  ]
}